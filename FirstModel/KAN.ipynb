{
  "nbformat": 4,
  "nbformat_minor": 0,
  "metadata": {
    "colab": {
      "provenance": [],
      "machine_shape": "hm",
      "gpuType": "A100"
    },
    "kernelspec": {
      "name": "python3",
      "display_name": "Python 3"
    },
    "language_info": {
      "name": "python"
    },
    "accelerator": "GPU"
  },
  "cells": [
    {
      "cell_type": "code",
      "execution_count": 36,
      "metadata": {
        "colab": {
          "base_uri": "https://localhost:8080/"
        },
        "id": "tJXmYBfXWRNH",
        "outputId": "7beb41de-2ddc-4db0-bdd8-3e91491a6eda"
      },
      "outputs": [
        {
          "output_type": "stream",
          "name": "stdout",
          "text": [
            "Requirement already satisfied: torch in /usr/local/lib/python3.10/dist-packages (2.3.1+cu121)\n",
            "Requirement already satisfied: pykan in /usr/local/lib/python3.10/dist-packages (0.2.6)\n",
            "Requirement already satisfied: filelock in /usr/local/lib/python3.10/dist-packages (from torch) (3.15.4)\n",
            "Requirement already satisfied: typing-extensions>=4.8.0 in /usr/local/lib/python3.10/dist-packages (from torch) (4.12.2)\n",
            "Requirement already satisfied: sympy in /usr/local/lib/python3.10/dist-packages (from torch) (1.13.2)\n",
            "Requirement already satisfied: networkx in /usr/local/lib/python3.10/dist-packages (from torch) (3.3)\n",
            "Requirement already satisfied: jinja2 in /usr/local/lib/python3.10/dist-packages (from torch) (3.1.4)\n",
            "Requirement already satisfied: fsspec in /usr/local/lib/python3.10/dist-packages (from torch) (2024.6.1)\n",
            "Requirement already satisfied: nvidia-cuda-nvrtc-cu12==12.1.105 in /usr/local/lib/python3.10/dist-packages (from torch) (12.1.105)\n",
            "Requirement already satisfied: nvidia-cuda-runtime-cu12==12.1.105 in /usr/local/lib/python3.10/dist-packages (from torch) (12.1.105)\n",
            "Requirement already satisfied: nvidia-cuda-cupti-cu12==12.1.105 in /usr/local/lib/python3.10/dist-packages (from torch) (12.1.105)\n",
            "Requirement already satisfied: nvidia-cudnn-cu12==8.9.2.26 in /usr/local/lib/python3.10/dist-packages (from torch) (8.9.2.26)\n",
            "Requirement already satisfied: nvidia-cublas-cu12==12.1.3.1 in /usr/local/lib/python3.10/dist-packages (from torch) (12.1.3.1)\n",
            "Requirement already satisfied: nvidia-cufft-cu12==11.0.2.54 in /usr/local/lib/python3.10/dist-packages (from torch) (11.0.2.54)\n",
            "Requirement already satisfied: nvidia-curand-cu12==10.3.2.106 in /usr/local/lib/python3.10/dist-packages (from torch) (10.3.2.106)\n",
            "Requirement already satisfied: nvidia-cusolver-cu12==11.4.5.107 in /usr/local/lib/python3.10/dist-packages (from torch) (11.4.5.107)\n",
            "Requirement already satisfied: nvidia-cusparse-cu12==12.1.0.106 in /usr/local/lib/python3.10/dist-packages (from torch) (12.1.0.106)\n",
            "Requirement already satisfied: nvidia-nccl-cu12==2.20.5 in /usr/local/lib/python3.10/dist-packages (from torch) (2.20.5)\n",
            "Requirement already satisfied: nvidia-nvtx-cu12==12.1.105 in /usr/local/lib/python3.10/dist-packages (from torch) (12.1.105)\n",
            "Requirement already satisfied: triton==2.3.1 in /usr/local/lib/python3.10/dist-packages (from torch) (2.3.1)\n",
            "Requirement already satisfied: nvidia-nvjitlink-cu12 in /usr/local/lib/python3.10/dist-packages (from nvidia-cusolver-cu12==11.4.5.107->torch) (12.6.20)\n",
            "Requirement already satisfied: MarkupSafe>=2.0 in /usr/local/lib/python3.10/dist-packages (from jinja2->torch) (2.1.5)\n",
            "Requirement already satisfied: mpmath<1.4,>=1.1.0 in /usr/local/lib/python3.10/dist-packages (from sympy->torch) (1.3.0)\n"
          ]
        }
      ],
      "source": [
        "pip install torch pykan\n"
      ]
    },
    {
      "cell_type": "code",
      "source": [
        "# Libraries\n",
        "import torch\n",
        "import numpy as np\n",
        "import pandas as pd\n",
        "from kan import KAN\n",
        "from kan.utils import create_dataset\n",
        "import matplotlib.pyplot as plt\n",
        "from sklearn.metrics import mean_squared_error, r2_score\n",
        "from sklearn.model_selection import train_test_split\n",
        "from sklearn.metrics import mean_squared_error, r2_score\n",
        "from astropy.io import fits"
      ],
      "metadata": {
        "id": "1H2AZbCb6sgL"
      },
      "execution_count": 37,
      "outputs": []
    },
    {
      "cell_type": "code",
      "source": [
        "# Device configuration\n",
        "device = torch.device('cuda' if torch.cuda.is_available() else 'cpu')\n",
        "print(f\"Usando dispositivo: {device}\")"
      ],
      "metadata": {
        "colab": {
          "base_uri": "https://localhost:8080/"
        },
        "id": "S5jcUCNy8d0d",
        "outputId": "6342fe11-63a2-4fb9-a044-78a39939974a"
      },
      "execution_count": 38,
      "outputs": [
        {
          "output_type": "stream",
          "name": "stdout",
          "text": [
            "Usando dispositivo: cuda\n"
          ]
        }
      ]
    },
    {
      "cell_type": "code",
      "source": [
        "# Descargar el archivo FITS (debe ser ejecutado en la terminal)\n",
        "#!wget https://dr18.sdss.org/sas/dr18/spectro/boss/redux/v6_0_4/spAll-v6_0_4.fits"
      ],
      "metadata": {
        "id": "ovEAj-ur8hCB"
      },
      "execution_count": 39,
      "outputs": []
    },
    {
      "cell_type": "code",
      "source": [
        "# Data reading\n",
        "file_path = 'SDSS_DR18.csv'\n",
        "df = pd.read_csv(file_path)\n",
        "\n",
        "print(df.head())\n"
      ],
      "metadata": {
        "colab": {
          "base_uri": "https://localhost:8080/"
        },
        "id": "LcsLkUsE9OC4",
        "outputId": "a2afb63c-3022-4208-a9b9-db1d212a5dae"
      },
      "execution_count": 40,
      "outputs": [
        {
          "output_type": "stream",
          "name": "stdout",
          "text": [
            "          objid     specobjid          ra       dec         u         g  \\\n",
            "0  1.240000e+18  3.240000e+17  184.950869  0.733068  18.87062  17.59612   \n",
            "1  1.240000e+18  3.250000e+17  185.729201  0.679704  19.59560  19.92153   \n",
            "2  1.240000e+18  3.240000e+17  185.687690  0.823480  19.26421  17.87891   \n",
            "3  1.240000e+18  2.880000e+18  185.677904  0.768362  19.49739  17.96166   \n",
            "4  1.240000e+18  2.880000e+18  185.814763  0.776940  18.31519  16.83033   \n",
            "\n",
            "          r         i         z  run  ...  psfMag_g  psfMag_i  psfMag_z  \\\n",
            "0  17.11245  16.83899  16.70908  756  ...  19.96352  19.25145  19.05230   \n",
            "1  20.34448  20.66213  20.59599  756  ...  19.92417  20.65535  20.57387   \n",
            "2  17.09593  16.65159  16.35329  756  ...  19.33645  18.16669  17.78844   \n",
            "3  17.41269  17.20545  17.11567  756  ...  17.96176  17.21564  17.12367   \n",
            "4  16.26352  16.06320  15.97527  756  ...  16.85104  16.08275  15.98694   \n",
            "\n",
            "    expAB_u   expAB_g   expAB_r   expAB_i   expAB_z  redshift   class  \n",
            "0  0.479021  0.518483  0.520474  0.508502  0.488969  0.041691  GALAXY  \n",
            "1  0.573926  0.531728  0.403072  0.999874  0.189495 -0.000814    STAR  \n",
            "2  0.701666  0.743386  0.770897  0.778642  0.736771  0.113069  GALAXY  \n",
            "3  0.999818  0.787760  0.745611  0.399718  0.986137  0.000087    STAR  \n",
            "4  0.999795  0.834450  0.723526  0.712259  0.527055  0.000018    STAR  \n",
            "\n",
            "[5 rows x 43 columns]\n"
          ]
        }
      ]
    },
    {
      "cell_type": "code",
      "source": [
        "# Data info\n",
        "df.info()\n"
      ],
      "metadata": {
        "colab": {
          "base_uri": "https://localhost:8080/"
        },
        "id": "nDFzACcx-xVq",
        "outputId": "04645582-99e8-407f-d915-74134c554d79"
      },
      "execution_count": 41,
      "outputs": [
        {
          "output_type": "stream",
          "name": "stdout",
          "text": [
            "<class 'pandas.core.frame.DataFrame'>\n",
            "RangeIndex: 100000 entries, 0 to 99999\n",
            "Data columns (total 43 columns):\n",
            " #   Column       Non-Null Count   Dtype  \n",
            "---  ------       --------------   -----  \n",
            " 0   objid        100000 non-null  float64\n",
            " 1   specobjid    100000 non-null  float64\n",
            " 2   ra           100000 non-null  float64\n",
            " 3   dec          100000 non-null  float64\n",
            " 4   u            100000 non-null  float64\n",
            " 5   g            100000 non-null  float64\n",
            " 6   r            100000 non-null  float64\n",
            " 7   i            100000 non-null  float64\n",
            " 8   z            100000 non-null  float64\n",
            " 9   run          100000 non-null  int64  \n",
            " 10  rerun        100000 non-null  int64  \n",
            " 11  camcol       100000 non-null  int64  \n",
            " 12  field        100000 non-null  int64  \n",
            " 13  plate        100000 non-null  int64  \n",
            " 14  mjd          100000 non-null  int64  \n",
            " 15  fiberid      100000 non-null  int64  \n",
            " 16  petroRad_u   100000 non-null  float64\n",
            " 17  petroRad_g   100000 non-null  float64\n",
            " 18  petroRad_i   100000 non-null  float64\n",
            " 19  petroRad_r   100000 non-null  float64\n",
            " 20  petroRad_z   100000 non-null  float64\n",
            " 21  petroFlux_u  100000 non-null  float64\n",
            " 22  petroFlux_g  100000 non-null  float64\n",
            " 23  petroFlux_i  100000 non-null  float64\n",
            " 24  petroFlux_r  100000 non-null  float64\n",
            " 25  petroFlux_z  100000 non-null  float64\n",
            " 26  petroR50_u   100000 non-null  float64\n",
            " 27  petroR50_g   100000 non-null  float64\n",
            " 28  petroR50_i   100000 non-null  float64\n",
            " 29  petroR50_r   100000 non-null  float64\n",
            " 30  petroR50_z   100000 non-null  float64\n",
            " 31  psfMag_u     100000 non-null  float64\n",
            " 32  psfMag_r     100000 non-null  float64\n",
            " 33  psfMag_g     100000 non-null  float64\n",
            " 34  psfMag_i     100000 non-null  float64\n",
            " 35  psfMag_z     100000 non-null  float64\n",
            " 36  expAB_u      100000 non-null  float64\n",
            " 37  expAB_g      100000 non-null  float64\n",
            " 38  expAB_r      100000 non-null  float64\n",
            " 39  expAB_i      100000 non-null  float64\n",
            " 40  expAB_z      100000 non-null  float64\n",
            " 41  redshift     100000 non-null  float64\n",
            " 42  class        100000 non-null  object \n",
            "dtypes: float64(35), int64(7), object(1)\n",
            "memory usage: 32.8+ MB\n"
          ]
        }
      ]
    },
    {
      "cell_type": "code",
      "source": [
        "# Interest columns\n",
        "selected_columns = [\n",
        "    'objid',    # Main Id\n",
        "    'u',        # Magnitud en la banda U\n",
        "    'g',        # Magnitud en la banda G\n",
        "    'r',        # Magnitud en la banda R\n",
        "    'i',        # Magnitud en la banda I\n",
        "    'z',        # Magnitud en la banda Z\n",
        "    'redshift',\n",
        "    ]\n",
        "\n",
        "# Target dataframe\n",
        "df_KAN = df[selected_columns]\n",
        "\n",
        "#Visualization\n",
        "df_KAN.head()"
      ],
      "metadata": {
        "colab": {
          "base_uri": "https://localhost:8080/",
          "height": 204
        },
        "id": "elw1KQ0sARGG",
        "outputId": "45a3d342-5416-4e08-9476-d4d2e960fb3d"
      },
      "execution_count": 42,
      "outputs": [
        {
          "output_type": "execute_result",
          "data": {
            "text/plain": [
              "          objid         u         g         r         i         z  redshift\n",
              "0  1.240000e+18  18.87062  17.59612  17.11245  16.83899  16.70908  0.041691\n",
              "1  1.240000e+18  19.59560  19.92153  20.34448  20.66213  20.59599 -0.000814\n",
              "2  1.240000e+18  19.26421  17.87891  17.09593  16.65159  16.35329  0.113069\n",
              "3  1.240000e+18  19.49739  17.96166  17.41269  17.20545  17.11567  0.000087\n",
              "4  1.240000e+18  18.31519  16.83033  16.26352  16.06320  15.97527  0.000018"
            ],
            "text/html": [
              "\n",
              "  <div id=\"df-4a019801-4082-40f8-82b3-c96ad6dec7d6\" class=\"colab-df-container\">\n",
              "    <div>\n",
              "<style scoped>\n",
              "    .dataframe tbody tr th:only-of-type {\n",
              "        vertical-align: middle;\n",
              "    }\n",
              "\n",
              "    .dataframe tbody tr th {\n",
              "        vertical-align: top;\n",
              "    }\n",
              "\n",
              "    .dataframe thead th {\n",
              "        text-align: right;\n",
              "    }\n",
              "</style>\n",
              "<table border=\"1\" class=\"dataframe\">\n",
              "  <thead>\n",
              "    <tr style=\"text-align: right;\">\n",
              "      <th></th>\n",
              "      <th>objid</th>\n",
              "      <th>u</th>\n",
              "      <th>g</th>\n",
              "      <th>r</th>\n",
              "      <th>i</th>\n",
              "      <th>z</th>\n",
              "      <th>redshift</th>\n",
              "    </tr>\n",
              "  </thead>\n",
              "  <tbody>\n",
              "    <tr>\n",
              "      <th>0</th>\n",
              "      <td>1.240000e+18</td>\n",
              "      <td>18.87062</td>\n",
              "      <td>17.59612</td>\n",
              "      <td>17.11245</td>\n",
              "      <td>16.83899</td>\n",
              "      <td>16.70908</td>\n",
              "      <td>0.041691</td>\n",
              "    </tr>\n",
              "    <tr>\n",
              "      <th>1</th>\n",
              "      <td>1.240000e+18</td>\n",
              "      <td>19.59560</td>\n",
              "      <td>19.92153</td>\n",
              "      <td>20.34448</td>\n",
              "      <td>20.66213</td>\n",
              "      <td>20.59599</td>\n",
              "      <td>-0.000814</td>\n",
              "    </tr>\n",
              "    <tr>\n",
              "      <th>2</th>\n",
              "      <td>1.240000e+18</td>\n",
              "      <td>19.26421</td>\n",
              "      <td>17.87891</td>\n",
              "      <td>17.09593</td>\n",
              "      <td>16.65159</td>\n",
              "      <td>16.35329</td>\n",
              "      <td>0.113069</td>\n",
              "    </tr>\n",
              "    <tr>\n",
              "      <th>3</th>\n",
              "      <td>1.240000e+18</td>\n",
              "      <td>19.49739</td>\n",
              "      <td>17.96166</td>\n",
              "      <td>17.41269</td>\n",
              "      <td>17.20545</td>\n",
              "      <td>17.11567</td>\n",
              "      <td>0.000087</td>\n",
              "    </tr>\n",
              "    <tr>\n",
              "      <th>4</th>\n",
              "      <td>1.240000e+18</td>\n",
              "      <td>18.31519</td>\n",
              "      <td>16.83033</td>\n",
              "      <td>16.26352</td>\n",
              "      <td>16.06320</td>\n",
              "      <td>15.97527</td>\n",
              "      <td>0.000018</td>\n",
              "    </tr>\n",
              "  </tbody>\n",
              "</table>\n",
              "</div>\n",
              "    <div class=\"colab-df-buttons\">\n",
              "\n",
              "  <div class=\"colab-df-container\">\n",
              "    <button class=\"colab-df-convert\" onclick=\"convertToInteractive('df-4a019801-4082-40f8-82b3-c96ad6dec7d6')\"\n",
              "            title=\"Convert this dataframe to an interactive table.\"\n",
              "            style=\"display:none;\">\n",
              "\n",
              "  <svg xmlns=\"http://www.w3.org/2000/svg\" height=\"24px\" viewBox=\"0 -960 960 960\">\n",
              "    <path d=\"M120-120v-720h720v720H120Zm60-500h600v-160H180v160Zm220 220h160v-160H400v160Zm0 220h160v-160H400v160ZM180-400h160v-160H180v160Zm440 0h160v-160H620v160ZM180-180h160v-160H180v160Zm440 0h160v-160H620v160Z\"/>\n",
              "  </svg>\n",
              "    </button>\n",
              "\n",
              "  <style>\n",
              "    .colab-df-container {\n",
              "      display:flex;\n",
              "      gap: 12px;\n",
              "    }\n",
              "\n",
              "    .colab-df-convert {\n",
              "      background-color: #E8F0FE;\n",
              "      border: none;\n",
              "      border-radius: 50%;\n",
              "      cursor: pointer;\n",
              "      display: none;\n",
              "      fill: #1967D2;\n",
              "      height: 32px;\n",
              "      padding: 0 0 0 0;\n",
              "      width: 32px;\n",
              "    }\n",
              "\n",
              "    .colab-df-convert:hover {\n",
              "      background-color: #E2EBFA;\n",
              "      box-shadow: 0px 1px 2px rgba(60, 64, 67, 0.3), 0px 1px 3px 1px rgba(60, 64, 67, 0.15);\n",
              "      fill: #174EA6;\n",
              "    }\n",
              "\n",
              "    .colab-df-buttons div {\n",
              "      margin-bottom: 4px;\n",
              "    }\n",
              "\n",
              "    [theme=dark] .colab-df-convert {\n",
              "      background-color: #3B4455;\n",
              "      fill: #D2E3FC;\n",
              "    }\n",
              "\n",
              "    [theme=dark] .colab-df-convert:hover {\n",
              "      background-color: #434B5C;\n",
              "      box-shadow: 0px 1px 3px 1px rgba(0, 0, 0, 0.15);\n",
              "      filter: drop-shadow(0px 1px 2px rgba(0, 0, 0, 0.3));\n",
              "      fill: #FFFFFF;\n",
              "    }\n",
              "  </style>\n",
              "\n",
              "    <script>\n",
              "      const buttonEl =\n",
              "        document.querySelector('#df-4a019801-4082-40f8-82b3-c96ad6dec7d6 button.colab-df-convert');\n",
              "      buttonEl.style.display =\n",
              "        google.colab.kernel.accessAllowed ? 'block' : 'none';\n",
              "\n",
              "      async function convertToInteractive(key) {\n",
              "        const element = document.querySelector('#df-4a019801-4082-40f8-82b3-c96ad6dec7d6');\n",
              "        const dataTable =\n",
              "          await google.colab.kernel.invokeFunction('convertToInteractive',\n",
              "                                                    [key], {});\n",
              "        if (!dataTable) return;\n",
              "\n",
              "        const docLinkHtml = 'Like what you see? Visit the ' +\n",
              "          '<a target=\"_blank\" href=https://colab.research.google.com/notebooks/data_table.ipynb>data table notebook</a>'\n",
              "          + ' to learn more about interactive tables.';\n",
              "        element.innerHTML = '';\n",
              "        dataTable['output_type'] = 'display_data';\n",
              "        await google.colab.output.renderOutput(dataTable, element);\n",
              "        const docLink = document.createElement('div');\n",
              "        docLink.innerHTML = docLinkHtml;\n",
              "        element.appendChild(docLink);\n",
              "      }\n",
              "    </script>\n",
              "  </div>\n",
              "\n",
              "\n",
              "<div id=\"df-cf762d77-1b9f-4bfb-80ee-bd6bdeffccfb\">\n",
              "  <button class=\"colab-df-quickchart\" onclick=\"quickchart('df-cf762d77-1b9f-4bfb-80ee-bd6bdeffccfb')\"\n",
              "            title=\"Suggest charts\"\n",
              "            style=\"display:none;\">\n",
              "\n",
              "<svg xmlns=\"http://www.w3.org/2000/svg\" height=\"24px\"viewBox=\"0 0 24 24\"\n",
              "     width=\"24px\">\n",
              "    <g>\n",
              "        <path d=\"M19 3H5c-1.1 0-2 .9-2 2v14c0 1.1.9 2 2 2h14c1.1 0 2-.9 2-2V5c0-1.1-.9-2-2-2zM9 17H7v-7h2v7zm4 0h-2V7h2v10zm4 0h-2v-4h2v4z\"/>\n",
              "    </g>\n",
              "</svg>\n",
              "  </button>\n",
              "\n",
              "<style>\n",
              "  .colab-df-quickchart {\n",
              "      --bg-color: #E8F0FE;\n",
              "      --fill-color: #1967D2;\n",
              "      --hover-bg-color: #E2EBFA;\n",
              "      --hover-fill-color: #174EA6;\n",
              "      --disabled-fill-color: #AAA;\n",
              "      --disabled-bg-color: #DDD;\n",
              "  }\n",
              "\n",
              "  [theme=dark] .colab-df-quickchart {\n",
              "      --bg-color: #3B4455;\n",
              "      --fill-color: #D2E3FC;\n",
              "      --hover-bg-color: #434B5C;\n",
              "      --hover-fill-color: #FFFFFF;\n",
              "      --disabled-bg-color: #3B4455;\n",
              "      --disabled-fill-color: #666;\n",
              "  }\n",
              "\n",
              "  .colab-df-quickchart {\n",
              "    background-color: var(--bg-color);\n",
              "    border: none;\n",
              "    border-radius: 50%;\n",
              "    cursor: pointer;\n",
              "    display: none;\n",
              "    fill: var(--fill-color);\n",
              "    height: 32px;\n",
              "    padding: 0;\n",
              "    width: 32px;\n",
              "  }\n",
              "\n",
              "  .colab-df-quickchart:hover {\n",
              "    background-color: var(--hover-bg-color);\n",
              "    box-shadow: 0 1px 2px rgba(60, 64, 67, 0.3), 0 1px 3px 1px rgba(60, 64, 67, 0.15);\n",
              "    fill: var(--button-hover-fill-color);\n",
              "  }\n",
              "\n",
              "  .colab-df-quickchart-complete:disabled,\n",
              "  .colab-df-quickchart-complete:disabled:hover {\n",
              "    background-color: var(--disabled-bg-color);\n",
              "    fill: var(--disabled-fill-color);\n",
              "    box-shadow: none;\n",
              "  }\n",
              "\n",
              "  .colab-df-spinner {\n",
              "    border: 2px solid var(--fill-color);\n",
              "    border-color: transparent;\n",
              "    border-bottom-color: var(--fill-color);\n",
              "    animation:\n",
              "      spin 1s steps(1) infinite;\n",
              "  }\n",
              "\n",
              "  @keyframes spin {\n",
              "    0% {\n",
              "      border-color: transparent;\n",
              "      border-bottom-color: var(--fill-color);\n",
              "      border-left-color: var(--fill-color);\n",
              "    }\n",
              "    20% {\n",
              "      border-color: transparent;\n",
              "      border-left-color: var(--fill-color);\n",
              "      border-top-color: var(--fill-color);\n",
              "    }\n",
              "    30% {\n",
              "      border-color: transparent;\n",
              "      border-left-color: var(--fill-color);\n",
              "      border-top-color: var(--fill-color);\n",
              "      border-right-color: var(--fill-color);\n",
              "    }\n",
              "    40% {\n",
              "      border-color: transparent;\n",
              "      border-right-color: var(--fill-color);\n",
              "      border-top-color: var(--fill-color);\n",
              "    }\n",
              "    60% {\n",
              "      border-color: transparent;\n",
              "      border-right-color: var(--fill-color);\n",
              "    }\n",
              "    80% {\n",
              "      border-color: transparent;\n",
              "      border-right-color: var(--fill-color);\n",
              "      border-bottom-color: var(--fill-color);\n",
              "    }\n",
              "    90% {\n",
              "      border-color: transparent;\n",
              "      border-bottom-color: var(--fill-color);\n",
              "    }\n",
              "  }\n",
              "</style>\n",
              "\n",
              "  <script>\n",
              "    async function quickchart(key) {\n",
              "      const quickchartButtonEl =\n",
              "        document.querySelector('#' + key + ' button');\n",
              "      quickchartButtonEl.disabled = true;  // To prevent multiple clicks.\n",
              "      quickchartButtonEl.classList.add('colab-df-spinner');\n",
              "      try {\n",
              "        const charts = await google.colab.kernel.invokeFunction(\n",
              "            'suggestCharts', [key], {});\n",
              "      } catch (error) {\n",
              "        console.error('Error during call to suggestCharts:', error);\n",
              "      }\n",
              "      quickchartButtonEl.classList.remove('colab-df-spinner');\n",
              "      quickchartButtonEl.classList.add('colab-df-quickchart-complete');\n",
              "    }\n",
              "    (() => {\n",
              "      let quickchartButtonEl =\n",
              "        document.querySelector('#df-cf762d77-1b9f-4bfb-80ee-bd6bdeffccfb button');\n",
              "      quickchartButtonEl.style.display =\n",
              "        google.colab.kernel.accessAllowed ? 'block' : 'none';\n",
              "    })();\n",
              "  </script>\n",
              "</div>\n",
              "\n",
              "    </div>\n",
              "  </div>\n"
            ],
            "application/vnd.google.colaboratory.intrinsic+json": {
              "type": "dataframe",
              "variable_name": "df_KAN",
              "summary": "{\n  \"name\": \"df_KAN\",\n  \"rows\": 100000,\n  \"fields\": [\n    {\n      \"column\": \"objid\",\n      \"properties\": {\n        \"dtype\": \"number\",\n        \"std\": 0.0,\n        \"min\": 1.24e+18,\n        \"max\": 1.24e+18,\n        \"num_unique_values\": 1,\n        \"samples\": [\n          1.24e+18\n        ],\n        \"semantic_type\": \"\",\n        \"description\": \"\"\n      }\n    },\n    {\n      \"column\": \"u\",\n      \"properties\": {\n        \"dtype\": \"number\",\n        \"std\": 0.8290346328928813,\n        \"min\": 11.72647,\n        \"max\": 19.59999,\n        \"num_unique_values\": 79930,\n        \"samples\": [\n          18.51555\n        ],\n        \"semantic_type\": \"\",\n        \"description\": \"\"\n      }\n    },\n    {\n      \"column\": \"g\",\n      \"properties\": {\n        \"dtype\": \"number\",\n        \"std\": 0.9746828238167043,\n        \"min\": 11.69617,\n        \"max\": 19.97727,\n        \"num_unique_values\": 85933,\n        \"samples\": [\n          17.08283\n        ],\n        \"semantic_type\": \"\",\n        \"description\": \"\"\n      }\n    },\n    {\n      \"column\": \"r\",\n      \"properties\": {\n        \"dtype\": \"number\",\n        \"std\": 1.118858072205684,\n        \"min\": 11.27709,\n        \"max\": 31.69816,\n        \"num_unique_values\": 87912,\n        \"samples\": [\n          17.46575\n        ],\n        \"semantic_type\": \"\",\n        \"description\": \"\"\n      }\n    },\n    {\n      \"column\": \"i\",\n      \"properties\": {\n        \"dtype\": \"number\",\n        \"std\": 31.694635574147156,\n        \"min\": -9999.0,\n        \"max\": 30.98087,\n        \"num_unique_values\": 88593,\n        \"samples\": [\n          18.61948\n        ],\n        \"semantic_type\": \"\",\n        \"description\": \"\"\n      }\n    },\n    {\n      \"column\": \"z\",\n      \"properties\": {\n        \"dtype\": \"number\",\n        \"std\": 54.87103375916135,\n        \"min\": -9999.0,\n        \"max\": 28.6687,\n        \"num_unique_values\": 89284,\n        \"samples\": [\n          16.73921\n        ],\n        \"semantic_type\": \"\",\n        \"description\": \"\"\n      }\n    },\n    {\n      \"column\": \"redshift\",\n      \"properties\": {\n        \"dtype\": \"number\",\n        \"std\": 0.4342854590940556,\n        \"min\": -0.004267853,\n        \"max\": 6.990327,\n        \"num_unique_values\": 89877,\n        \"samples\": [\n          0.06238978\n        ],\n        \"semantic_type\": \"\",\n        \"description\": \"\"\n      }\n    }\n  ]\n}"
            }
          },
          "metadata": {},
          "execution_count": 42
        }
      ]
    },
    {
      "cell_type": "code",
      "source": [
        "# New columns: u-g , g-r, r-i, i-z\n",
        "df_KAN['u-g'] = df_KAN['u'] - df_KAN['g']\n",
        "df_KAN['g-r'] = df_KAN['g'] - df_KAN['r']\n",
        "df_KAN['r-i'] = df_KAN['r'] - df_KAN['i']\n",
        "df_KAN['i-z'] = df_KAN['i'] - df_KAN['z']\n",
        "\n",
        "# Erasing original columns\n",
        "df_KAN.drop(columns = ['u', 'g', 'r', 'i', 'z'], inplace = True)\n",
        "\n",
        "# Visualization of new dataframe\n",
        "df_KAN.head()"
      ],
      "metadata": {
        "colab": {
          "base_uri": "https://localhost:8080/",
          "height": 717
        },
        "id": "VzOFxwNlDWFn",
        "outputId": "d3f7dd08-6deb-4d53-e623-7dd2022d4c9b"
      },
      "execution_count": 43,
      "outputs": [
        {
          "output_type": "stream",
          "name": "stderr",
          "text": [
            "<ipython-input-43-3a1ed528d53a>:2: SettingWithCopyWarning: \n",
            "A value is trying to be set on a copy of a slice from a DataFrame.\n",
            "Try using .loc[row_indexer,col_indexer] = value instead\n",
            "\n",
            "See the caveats in the documentation: https://pandas.pydata.org/pandas-docs/stable/user_guide/indexing.html#returning-a-view-versus-a-copy\n",
            "  df_KAN['u-g'] = df_KAN['u'] - df_KAN['g']\n",
            "<ipython-input-43-3a1ed528d53a>:3: SettingWithCopyWarning: \n",
            "A value is trying to be set on a copy of a slice from a DataFrame.\n",
            "Try using .loc[row_indexer,col_indexer] = value instead\n",
            "\n",
            "See the caveats in the documentation: https://pandas.pydata.org/pandas-docs/stable/user_guide/indexing.html#returning-a-view-versus-a-copy\n",
            "  df_KAN['g-r'] = df_KAN['g'] - df_KAN['r']\n",
            "<ipython-input-43-3a1ed528d53a>:4: SettingWithCopyWarning: \n",
            "A value is trying to be set on a copy of a slice from a DataFrame.\n",
            "Try using .loc[row_indexer,col_indexer] = value instead\n",
            "\n",
            "See the caveats in the documentation: https://pandas.pydata.org/pandas-docs/stable/user_guide/indexing.html#returning-a-view-versus-a-copy\n",
            "  df_KAN['r-i'] = df_KAN['r'] - df_KAN['i']\n",
            "<ipython-input-43-3a1ed528d53a>:5: SettingWithCopyWarning: \n",
            "A value is trying to be set on a copy of a slice from a DataFrame.\n",
            "Try using .loc[row_indexer,col_indexer] = value instead\n",
            "\n",
            "See the caveats in the documentation: https://pandas.pydata.org/pandas-docs/stable/user_guide/indexing.html#returning-a-view-versus-a-copy\n",
            "  df_KAN['i-z'] = df_KAN['i'] - df_KAN['z']\n",
            "<ipython-input-43-3a1ed528d53a>:8: SettingWithCopyWarning: \n",
            "A value is trying to be set on a copy of a slice from a DataFrame\n",
            "\n",
            "See the caveats in the documentation: https://pandas.pydata.org/pandas-docs/stable/user_guide/indexing.html#returning-a-view-versus-a-copy\n",
            "  df_KAN.drop(columns = ['u', 'g', 'r', 'i', 'z'], inplace = True)\n"
          ]
        },
        {
          "output_type": "execute_result",
          "data": {
            "text/plain": [
              "          objid  redshift      u-g      g-r      r-i      i-z\n",
              "0  1.240000e+18  0.041691  1.27450  0.48367  0.27346  0.12991\n",
              "1  1.240000e+18 -0.000814 -0.32593 -0.42295 -0.31765  0.06614\n",
              "2  1.240000e+18  0.113069  1.38530  0.78298  0.44434  0.29830\n",
              "3  1.240000e+18  0.000087  1.53573  0.54897  0.20724  0.08978\n",
              "4  1.240000e+18  0.000018  1.48486  0.56681  0.20032  0.08793"
            ],
            "text/html": [
              "\n",
              "  <div id=\"df-dade1853-77d4-4bc3-91bc-ae0e2538589f\" class=\"colab-df-container\">\n",
              "    <div>\n",
              "<style scoped>\n",
              "    .dataframe tbody tr th:only-of-type {\n",
              "        vertical-align: middle;\n",
              "    }\n",
              "\n",
              "    .dataframe tbody tr th {\n",
              "        vertical-align: top;\n",
              "    }\n",
              "\n",
              "    .dataframe thead th {\n",
              "        text-align: right;\n",
              "    }\n",
              "</style>\n",
              "<table border=\"1\" class=\"dataframe\">\n",
              "  <thead>\n",
              "    <tr style=\"text-align: right;\">\n",
              "      <th></th>\n",
              "      <th>objid</th>\n",
              "      <th>redshift</th>\n",
              "      <th>u-g</th>\n",
              "      <th>g-r</th>\n",
              "      <th>r-i</th>\n",
              "      <th>i-z</th>\n",
              "    </tr>\n",
              "  </thead>\n",
              "  <tbody>\n",
              "    <tr>\n",
              "      <th>0</th>\n",
              "      <td>1.240000e+18</td>\n",
              "      <td>0.041691</td>\n",
              "      <td>1.27450</td>\n",
              "      <td>0.48367</td>\n",
              "      <td>0.27346</td>\n",
              "      <td>0.12991</td>\n",
              "    </tr>\n",
              "    <tr>\n",
              "      <th>1</th>\n",
              "      <td>1.240000e+18</td>\n",
              "      <td>-0.000814</td>\n",
              "      <td>-0.32593</td>\n",
              "      <td>-0.42295</td>\n",
              "      <td>-0.31765</td>\n",
              "      <td>0.06614</td>\n",
              "    </tr>\n",
              "    <tr>\n",
              "      <th>2</th>\n",
              "      <td>1.240000e+18</td>\n",
              "      <td>0.113069</td>\n",
              "      <td>1.38530</td>\n",
              "      <td>0.78298</td>\n",
              "      <td>0.44434</td>\n",
              "      <td>0.29830</td>\n",
              "    </tr>\n",
              "    <tr>\n",
              "      <th>3</th>\n",
              "      <td>1.240000e+18</td>\n",
              "      <td>0.000087</td>\n",
              "      <td>1.53573</td>\n",
              "      <td>0.54897</td>\n",
              "      <td>0.20724</td>\n",
              "      <td>0.08978</td>\n",
              "    </tr>\n",
              "    <tr>\n",
              "      <th>4</th>\n",
              "      <td>1.240000e+18</td>\n",
              "      <td>0.000018</td>\n",
              "      <td>1.48486</td>\n",
              "      <td>0.56681</td>\n",
              "      <td>0.20032</td>\n",
              "      <td>0.08793</td>\n",
              "    </tr>\n",
              "  </tbody>\n",
              "</table>\n",
              "</div>\n",
              "    <div class=\"colab-df-buttons\">\n",
              "\n",
              "  <div class=\"colab-df-container\">\n",
              "    <button class=\"colab-df-convert\" onclick=\"convertToInteractive('df-dade1853-77d4-4bc3-91bc-ae0e2538589f')\"\n",
              "            title=\"Convert this dataframe to an interactive table.\"\n",
              "            style=\"display:none;\">\n",
              "\n",
              "  <svg xmlns=\"http://www.w3.org/2000/svg\" height=\"24px\" viewBox=\"0 -960 960 960\">\n",
              "    <path d=\"M120-120v-720h720v720H120Zm60-500h600v-160H180v160Zm220 220h160v-160H400v160Zm0 220h160v-160H400v160ZM180-400h160v-160H180v160Zm440 0h160v-160H620v160ZM180-180h160v-160H180v160Zm440 0h160v-160H620v160Z\"/>\n",
              "  </svg>\n",
              "    </button>\n",
              "\n",
              "  <style>\n",
              "    .colab-df-container {\n",
              "      display:flex;\n",
              "      gap: 12px;\n",
              "    }\n",
              "\n",
              "    .colab-df-convert {\n",
              "      background-color: #E8F0FE;\n",
              "      border: none;\n",
              "      border-radius: 50%;\n",
              "      cursor: pointer;\n",
              "      display: none;\n",
              "      fill: #1967D2;\n",
              "      height: 32px;\n",
              "      padding: 0 0 0 0;\n",
              "      width: 32px;\n",
              "    }\n",
              "\n",
              "    .colab-df-convert:hover {\n",
              "      background-color: #E2EBFA;\n",
              "      box-shadow: 0px 1px 2px rgba(60, 64, 67, 0.3), 0px 1px 3px 1px rgba(60, 64, 67, 0.15);\n",
              "      fill: #174EA6;\n",
              "    }\n",
              "\n",
              "    .colab-df-buttons div {\n",
              "      margin-bottom: 4px;\n",
              "    }\n",
              "\n",
              "    [theme=dark] .colab-df-convert {\n",
              "      background-color: #3B4455;\n",
              "      fill: #D2E3FC;\n",
              "    }\n",
              "\n",
              "    [theme=dark] .colab-df-convert:hover {\n",
              "      background-color: #434B5C;\n",
              "      box-shadow: 0px 1px 3px 1px rgba(0, 0, 0, 0.15);\n",
              "      filter: drop-shadow(0px 1px 2px rgba(0, 0, 0, 0.3));\n",
              "      fill: #FFFFFF;\n",
              "    }\n",
              "  </style>\n",
              "\n",
              "    <script>\n",
              "      const buttonEl =\n",
              "        document.querySelector('#df-dade1853-77d4-4bc3-91bc-ae0e2538589f button.colab-df-convert');\n",
              "      buttonEl.style.display =\n",
              "        google.colab.kernel.accessAllowed ? 'block' : 'none';\n",
              "\n",
              "      async function convertToInteractive(key) {\n",
              "        const element = document.querySelector('#df-dade1853-77d4-4bc3-91bc-ae0e2538589f');\n",
              "        const dataTable =\n",
              "          await google.colab.kernel.invokeFunction('convertToInteractive',\n",
              "                                                    [key], {});\n",
              "        if (!dataTable) return;\n",
              "\n",
              "        const docLinkHtml = 'Like what you see? Visit the ' +\n",
              "          '<a target=\"_blank\" href=https://colab.research.google.com/notebooks/data_table.ipynb>data table notebook</a>'\n",
              "          + ' to learn more about interactive tables.';\n",
              "        element.innerHTML = '';\n",
              "        dataTable['output_type'] = 'display_data';\n",
              "        await google.colab.output.renderOutput(dataTable, element);\n",
              "        const docLink = document.createElement('div');\n",
              "        docLink.innerHTML = docLinkHtml;\n",
              "        element.appendChild(docLink);\n",
              "      }\n",
              "    </script>\n",
              "  </div>\n",
              "\n",
              "\n",
              "<div id=\"df-2699ed5f-b1d5-44f3-ac7e-31264a2a44ec\">\n",
              "  <button class=\"colab-df-quickchart\" onclick=\"quickchart('df-2699ed5f-b1d5-44f3-ac7e-31264a2a44ec')\"\n",
              "            title=\"Suggest charts\"\n",
              "            style=\"display:none;\">\n",
              "\n",
              "<svg xmlns=\"http://www.w3.org/2000/svg\" height=\"24px\"viewBox=\"0 0 24 24\"\n",
              "     width=\"24px\">\n",
              "    <g>\n",
              "        <path d=\"M19 3H5c-1.1 0-2 .9-2 2v14c0 1.1.9 2 2 2h14c1.1 0 2-.9 2-2V5c0-1.1-.9-2-2-2zM9 17H7v-7h2v7zm4 0h-2V7h2v10zm4 0h-2v-4h2v4z\"/>\n",
              "    </g>\n",
              "</svg>\n",
              "  </button>\n",
              "\n",
              "<style>\n",
              "  .colab-df-quickchart {\n",
              "      --bg-color: #E8F0FE;\n",
              "      --fill-color: #1967D2;\n",
              "      --hover-bg-color: #E2EBFA;\n",
              "      --hover-fill-color: #174EA6;\n",
              "      --disabled-fill-color: #AAA;\n",
              "      --disabled-bg-color: #DDD;\n",
              "  }\n",
              "\n",
              "  [theme=dark] .colab-df-quickchart {\n",
              "      --bg-color: #3B4455;\n",
              "      --fill-color: #D2E3FC;\n",
              "      --hover-bg-color: #434B5C;\n",
              "      --hover-fill-color: #FFFFFF;\n",
              "      --disabled-bg-color: #3B4455;\n",
              "      --disabled-fill-color: #666;\n",
              "  }\n",
              "\n",
              "  .colab-df-quickchart {\n",
              "    background-color: var(--bg-color);\n",
              "    border: none;\n",
              "    border-radius: 50%;\n",
              "    cursor: pointer;\n",
              "    display: none;\n",
              "    fill: var(--fill-color);\n",
              "    height: 32px;\n",
              "    padding: 0;\n",
              "    width: 32px;\n",
              "  }\n",
              "\n",
              "  .colab-df-quickchart:hover {\n",
              "    background-color: var(--hover-bg-color);\n",
              "    box-shadow: 0 1px 2px rgba(60, 64, 67, 0.3), 0 1px 3px 1px rgba(60, 64, 67, 0.15);\n",
              "    fill: var(--button-hover-fill-color);\n",
              "  }\n",
              "\n",
              "  .colab-df-quickchart-complete:disabled,\n",
              "  .colab-df-quickchart-complete:disabled:hover {\n",
              "    background-color: var(--disabled-bg-color);\n",
              "    fill: var(--disabled-fill-color);\n",
              "    box-shadow: none;\n",
              "  }\n",
              "\n",
              "  .colab-df-spinner {\n",
              "    border: 2px solid var(--fill-color);\n",
              "    border-color: transparent;\n",
              "    border-bottom-color: var(--fill-color);\n",
              "    animation:\n",
              "      spin 1s steps(1) infinite;\n",
              "  }\n",
              "\n",
              "  @keyframes spin {\n",
              "    0% {\n",
              "      border-color: transparent;\n",
              "      border-bottom-color: var(--fill-color);\n",
              "      border-left-color: var(--fill-color);\n",
              "    }\n",
              "    20% {\n",
              "      border-color: transparent;\n",
              "      border-left-color: var(--fill-color);\n",
              "      border-top-color: var(--fill-color);\n",
              "    }\n",
              "    30% {\n",
              "      border-color: transparent;\n",
              "      border-left-color: var(--fill-color);\n",
              "      border-top-color: var(--fill-color);\n",
              "      border-right-color: var(--fill-color);\n",
              "    }\n",
              "    40% {\n",
              "      border-color: transparent;\n",
              "      border-right-color: var(--fill-color);\n",
              "      border-top-color: var(--fill-color);\n",
              "    }\n",
              "    60% {\n",
              "      border-color: transparent;\n",
              "      border-right-color: var(--fill-color);\n",
              "    }\n",
              "    80% {\n",
              "      border-color: transparent;\n",
              "      border-right-color: var(--fill-color);\n",
              "      border-bottom-color: var(--fill-color);\n",
              "    }\n",
              "    90% {\n",
              "      border-color: transparent;\n",
              "      border-bottom-color: var(--fill-color);\n",
              "    }\n",
              "  }\n",
              "</style>\n",
              "\n",
              "  <script>\n",
              "    async function quickchart(key) {\n",
              "      const quickchartButtonEl =\n",
              "        document.querySelector('#' + key + ' button');\n",
              "      quickchartButtonEl.disabled = true;  // To prevent multiple clicks.\n",
              "      quickchartButtonEl.classList.add('colab-df-spinner');\n",
              "      try {\n",
              "        const charts = await google.colab.kernel.invokeFunction(\n",
              "            'suggestCharts', [key], {});\n",
              "      } catch (error) {\n",
              "        console.error('Error during call to suggestCharts:', error);\n",
              "      }\n",
              "      quickchartButtonEl.classList.remove('colab-df-spinner');\n",
              "      quickchartButtonEl.classList.add('colab-df-quickchart-complete');\n",
              "    }\n",
              "    (() => {\n",
              "      let quickchartButtonEl =\n",
              "        document.querySelector('#df-2699ed5f-b1d5-44f3-ac7e-31264a2a44ec button');\n",
              "      quickchartButtonEl.style.display =\n",
              "        google.colab.kernel.accessAllowed ? 'block' : 'none';\n",
              "    })();\n",
              "  </script>\n",
              "</div>\n",
              "\n",
              "    </div>\n",
              "  </div>\n"
            ],
            "application/vnd.google.colaboratory.intrinsic+json": {
              "type": "dataframe",
              "variable_name": "df_KAN",
              "summary": "{\n  \"name\": \"df_KAN\",\n  \"rows\": 100000,\n  \"fields\": [\n    {\n      \"column\": \"objid\",\n      \"properties\": {\n        \"dtype\": \"number\",\n        \"std\": 0.0,\n        \"min\": 1.24e+18,\n        \"max\": 1.24e+18,\n        \"num_unique_values\": 1,\n        \"samples\": [\n          1.24e+18\n        ],\n        \"semantic_type\": \"\",\n        \"description\": \"\"\n      }\n    },\n    {\n      \"column\": \"redshift\",\n      \"properties\": {\n        \"dtype\": \"number\",\n        \"std\": 0.4342854590940556,\n        \"min\": -0.004267853,\n        \"max\": 6.990327,\n        \"num_unique_values\": 89877,\n        \"samples\": [\n          0.06238978\n        ],\n        \"semantic_type\": \"\",\n        \"description\": \"\"\n      }\n    },\n    {\n      \"column\": \"u-g\",\n      \"properties\": {\n        \"dtype\": \"number\",\n        \"std\": 0.526905100415103,\n        \"min\": -2.719890000000003,\n        \"max\": 4.02829,\n        \"num_unique_values\": 83034,\n        \"samples\": [\n          1.26764\n        ],\n        \"semantic_type\": \"\",\n        \"description\": \"\"\n      }\n    },\n    {\n      \"column\": \"g-r\",\n      \"properties\": {\n        \"dtype\": \"number\",\n        \"std\": 0.3440700860569739,\n        \"min\": -14.27431,\n        \"max\": 4.354610000000001,\n        \"num_unique_values\": 78202,\n        \"samples\": [\n          0.7548199999999987\n        ],\n        \"semantic_type\": \"\",\n        \"description\": \"\"\n      }\n    },\n    {\n      \"column\": \"r-i\",\n      \"properties\": {\n        \"dtype\": \"number\",\n        \"std\": 31.676440949443435,\n        \"min\": -12.70979,\n        \"max\": 10016.92,\n        \"num_unique_values\": 65160,\n        \"samples\": [\n          0.15862999999999872\n        ],\n        \"semantic_type\": \"\",\n        \"description\": \"\"\n      }\n    },\n    {\n      \"column\": \"i-z\",\n      \"properties\": {\n        \"dtype\": \"number\",\n        \"std\": 44.79031052940706,\n        \"min\": -10.64462,\n        \"max\": 10016.60443,\n        \"num_unique_values\": 63196,\n        \"samples\": [\n          0.25391999999999904\n        ],\n        \"semantic_type\": \"\",\n        \"description\": \"\"\n      }\n    }\n  ]\n}"
            }
          },
          "metadata": {},
          "execution_count": 43
        }
      ]
    },
    {
      "cell_type": "code",
      "source": [
        "# Selecting interest variables and the predictor\n",
        "features = ['u-g', 'g-r', 'r-i', 'i-z']\n",
        "target = 'redshift'\n",
        "\n",
        "print(\"Características seleccionadas:\", features)\n",
        "print(\"Variable objetivo:\", target)"
      ],
      "metadata": {
        "colab": {
          "base_uri": "https://localhost:8080/"
        },
        "id": "BVI-4IfdFfyF",
        "outputId": "593f6fd1-5d09-4221-c68b-859e06897ad0"
      },
      "execution_count": 45,
      "outputs": [
        {
          "output_type": "stream",
          "name": "stdout",
          "text": [
            "Características seleccionadas: ['u-g', 'g-r', 'r-i', 'i-z']\n",
            "Variable objetivo: redshift\n"
          ]
        }
      ]
    },
    {
      "cell_type": "code",
      "source": [
        "# Data split\n",
        "X = df_KAN[features].values\n",
        "y = df_KAN[target].values\n"
      ],
      "metadata": {
        "id": "kk8Y5dBrF44R"
      },
      "execution_count": 46,
      "outputs": []
    },
    {
      "cell_type": "code",
      "source": [
        "# Train, test and validation split\n",
        "X_train, X_temp, y_train, y_temp = train_test_split(X,\n",
        "                                                    y,\n",
        "                                                    test_size    = 0.2,\n",
        "                                                    random_state = 42\n",
        "                                                    )\n",
        "\n",
        "X_val, X_test, y_val, y_test = train_test_split(X_temp,\n",
        "                                                y_temp,\n",
        "                                                test_size    = 0.5,\n",
        "                                                random_state = 42\n",
        "                                                )\n"
      ],
      "metadata": {
        "id": "G8Hka7GPFC9_"
      },
      "execution_count": 47,
      "outputs": []
    },
    {
      "cell_type": "code",
      "source": [
        "# Data to PyTorch tensors\n",
        "device  = torch.device('cuda' if torch.cuda.is_available() else 'cpu')\n",
        "X_train = torch.tensor(X_train, dtype = torch.float32, device = device)\n",
        "y_train = torch.tensor(y_train, dtype = torch.float32, device = device).view(-1, 1)\n",
        "X_val   = torch.tensor(X_val,   dtype = torch.float32, device = device)\n",
        "y_val   = torch.tensor(y_val,   dtype = torch.float32, device = device).view(-1, 1)\n",
        "X_test  = torch.tensor(X_test,  dtype = torch.float32, device = device)\n",
        "y_test  = torch.tensor(y_test,  dtype = torch.float32, device = device).view(-1, 1)"
      ],
      "metadata": {
        "id": "Nd9q7jg8FLG2"
      },
      "execution_count": 48,
      "outputs": []
    },
    {
      "cell_type": "code",
      "source": [
        "# NaN check after the conversion\n",
        "print(\"Valores NaN en X_train después de la conversión:\")\n",
        "print(torch.isnan(X_train).sum().item())\n",
        "print(\"Valores NaN en y_train después de la conversión:\")\n",
        "print(torch.isnan(y_train).sum().item())"
      ],
      "metadata": {
        "colab": {
          "base_uri": "https://localhost:8080/"
        },
        "id": "WL870efgMvqa",
        "outputId": "f8e3e1c3-5ca4-4f69-a958-2d9facc21f05"
      },
      "execution_count": 53,
      "outputs": [
        {
          "output_type": "stream",
          "name": "stdout",
          "text": [
            "Valores NaN en X_train después de la conversión:\n",
            "0\n",
            "Valores NaN en y_train después de la conversión:\n",
            "0\n"
          ]
        }
      ]
    },
    {
      "cell_type": "code",
      "source": [
        "# Data compatible with KAN\n",
        "dataset = {\n",
        "    'train_input': X_train,\n",
        "    'train_label': y_train,\n",
        "    'val_input': X_val,\n",
        "    'val_label': y_val,\n",
        "    'test_input': X_test,\n",
        "    'test_label': y_test,\n",
        "}\n"
      ],
      "metadata": {
        "id": "q9wDGphPFOSX"
      },
      "execution_count": 54,
      "outputs": []
    },
    {
      "cell_type": "code",
      "source": [
        "# KAN model\n",
        "model = KAN(width  = [4, 5, 1],\n",
        "            grid   = 3,\n",
        "            k      = 3,\n",
        "            seed   = 42,\n",
        "            device = device\n",
        "            )\n",
        "\n",
        "# Training the model\n",
        "train_losses = []\n",
        "val_losses   = []\n",
        "steps        = 12\n",
        "\n",
        "for step in range(steps):\n",
        "    model.fit(dataset, opt   = \"LBFGS\",\n",
        "                       steps = 1,\n",
        "                       lamb  = 0.001\n",
        "              )\n",
        "\n",
        "    # Train and validation loss\n",
        "    train_loss = mean_squared_error(y_train.cpu(), model(dataset['train_input']).detach().cpu())\n",
        "    val_loss   = mean_squared_error(y_val.cpu(), model(dataset['val_input']).detach().cpu())\n",
        "\n",
        "    train_losses.append(train_loss)\n",
        "    val_losses.append(val_loss)\n",
        "\n",
        "    print(f\"Step {step+1}/{steps}: Train loss = {train_loss:.4f}, validation loss = {val_loss:.4f}\")\n",
        "\n"
      ],
      "metadata": {
        "colab": {
          "base_uri": "https://localhost:8080/"
        },
        "id": "Iano9le9FRpm",
        "outputId": "f533e346-6a1d-4b23-ce76-1e56cc108837"
      },
      "execution_count": 58,
      "outputs": [
        {
          "output_type": "stream",
          "name": "stdout",
          "text": [
            "checkpoint directory created: ./model\n",
            "saving model version 0.0\n"
          ]
        },
        {
          "output_type": "stream",
          "name": "stderr",
          "text": [
            "| train_loss: 4.14e-01 | test_loss: 2.70e+01 | reg: 1.02e+01 | : 100%|█| 1/1 [00:00<00:00,  1.30it/s\n"
          ]
        },
        {
          "output_type": "stream",
          "name": "stdout",
          "text": [
            "saving model version 0.1\n",
            "Paso 1/12: Pérdida de entrenamiento = 0.1717, Pérdida de validación = 0.1626\n"
          ]
        },
        {
          "output_type": "stream",
          "name": "stderr",
          "text": [
            "| train_loss: 3.86e-01 | test_loss: 8.62e+00 | reg: 1.08e+01 | : 100%|█| 1/1 [00:00<00:00,  1.53it/s\n"
          ]
        },
        {
          "output_type": "stream",
          "name": "stdout",
          "text": [
            "saving model version 0.2\n",
            "Paso 2/12: Pérdida de entrenamiento = 0.1488, Pérdida de validación = 0.1403\n"
          ]
        },
        {
          "output_type": "stream",
          "name": "stderr",
          "text": [
            "| train_loss: 3.85e-01 | test_loss: 9.11e+00 | reg: 1.01e+01 | : 100%|█| 1/1 [00:00<00:00,  1.38it/s\n"
          ]
        },
        {
          "output_type": "stream",
          "name": "stdout",
          "text": [
            "saving model version 0.3\n",
            "Paso 3/12: Pérdida de entrenamiento = 0.1480, Pérdida de validación = 0.1398\n"
          ]
        },
        {
          "output_type": "stream",
          "name": "stderr",
          "text": [
            "| train_loss: 4.44e-01 | test_loss: 1.51e+01 | reg: 1.21e+01 | : 100%|█| 1/1 [00:00<00:00,  1.37it/s\n"
          ]
        },
        {
          "output_type": "stream",
          "name": "stdout",
          "text": [
            "saving model version 0.4\n",
            "Paso 4/12: Pérdida de entrenamiento = 0.1969, Pérdida de validación = 0.1923\n"
          ]
        },
        {
          "output_type": "stream",
          "name": "stderr",
          "text": [
            "| train_loss: 3.86e-01 | test_loss: 7.22e+01 | reg: 1.18e+01 | : 100%|█| 1/1 [00:00<00:00,  1.41it/s\n"
          ]
        },
        {
          "output_type": "stream",
          "name": "stdout",
          "text": [
            "saving model version 0.5\n",
            "Paso 5/12: Pérdida de entrenamiento = 0.1487, Pérdida de validación = 0.1401\n"
          ]
        },
        {
          "output_type": "stream",
          "name": "stderr",
          "text": [
            "| train_loss: 5.45e-01 | test_loss: 1.80e+02 | reg: 1.29e+01 | : 100%|█| 1/1 [00:00<00:00,  1.37it/s\n"
          ]
        },
        {
          "output_type": "stream",
          "name": "stdout",
          "text": [
            "saving model version 0.6\n",
            "Paso 6/12: Pérdida de entrenamiento = 0.2967, Pérdida de validación = 0.2299\n"
          ]
        },
        {
          "output_type": "stream",
          "name": "stderr",
          "text": [
            "| train_loss: 4.79e-01 | test_loss: 2.91e+02 | reg: 1.21e+01 | : 100%|█| 1/1 [00:00<00:00,  1.36it/s\n"
          ]
        },
        {
          "output_type": "stream",
          "name": "stdout",
          "text": [
            "saving model version 0.7\n",
            "Paso 7/12: Pérdida de entrenamiento = 0.2292, Pérdida de validación = 0.1734\n"
          ]
        },
        {
          "output_type": "stream",
          "name": "stderr",
          "text": [
            "| train_loss: 6.91e-01 | test_loss: 1.94e+02 | reg: 1.56e+01 | : 100%|█| 1/1 [00:00<00:00,  1.42it/s\n"
          ]
        },
        {
          "output_type": "stream",
          "name": "stdout",
          "text": [
            "saving model version 0.8\n",
            "Paso 8/12: Pérdida de entrenamiento = 0.4771, Pérdida de validación = 0.3217\n"
          ]
        },
        {
          "output_type": "stream",
          "name": "stderr",
          "text": [
            "| train_loss: 1.16e+00 | test_loss: 2.16e+02 | reg: 1.86e+01 | : 100%|█| 1/1 [00:00<00:00,  1.37it/s\n"
          ]
        },
        {
          "output_type": "stream",
          "name": "stdout",
          "text": [
            "saving model version 0.9\n",
            "Paso 9/12: Pérdida de entrenamiento = 1.3377, Pérdida de validación = 0.9657\n"
          ]
        },
        {
          "output_type": "stream",
          "name": "stderr",
          "text": [
            "| train_loss: 6.15e+00 | test_loss: 6.98e+03 | reg: 1.87e+01 | : 100%|█| 1/1 [00:00<00:00,  1.49it/s\n"
          ]
        },
        {
          "output_type": "stream",
          "name": "stdout",
          "text": [
            "saving model version 0.10\n",
            "Paso 10/12: Pérdida de entrenamiento = 37.8730, Pérdida de validación = 27.6062\n"
          ]
        },
        {
          "output_type": "stream",
          "name": "stderr",
          "text": [
            "| train_loss: 9.21e+00 | test_loss: 7.22e+03 | reg: 1.87e+01 | : 100%|█| 1/1 [00:00<00:00,  1.38it/s\n"
          ]
        },
        {
          "output_type": "stream",
          "name": "stdout",
          "text": [
            "saving model version 0.11\n",
            "Paso 11/12: Pérdida de entrenamiento = 84.7833, Pérdida de validación = 99.3053\n"
          ]
        },
        {
          "output_type": "stream",
          "name": "stderr",
          "text": [
            "| train_loss: 2.71e+01 | test_loss: 7.30e+03 | reg: 3.90e+01 | : 100%|█| 1/1 [00:00<00:00,  1.32it/s"
          ]
        },
        {
          "output_type": "stream",
          "name": "stdout",
          "text": [
            "saving model version 0.12\n",
            "Paso 12/12: Pérdida de entrenamiento = 736.0760, Pérdida de validación = 462.4131\n"
          ]
        },
        {
          "output_type": "stream",
          "name": "stderr",
          "text": [
            "\n"
          ]
        }
      ]
    },
    {
      "cell_type": "code",
      "source": [
        "# Visualizing the results\n",
        "plt.figure(figsize = (12, 8))\n",
        "\n",
        "# Train loss visualization\n",
        "plt.subplot(2, 2, 1)\n",
        "plt.plot(train_losses, label = 'Pérdida de Entrenamiento')\n",
        "plt.plot(val_losses, label   = 'Pérdida de Validación')\n",
        "plt.xlabel('Paso de Entrenamiento')\n",
        "plt.ylabel('Pérdida MSE')\n",
        "plt.title('Progreso de la Pérdida Durante el Entrenamiento')\n",
        "plt.legend()\n",
        "\n",
        "# Predictions VS real values (in the validation set)\n",
        "plt.subplot(2, 2, 2)\n",
        "y_val_pred = model(dataset['val_input']).detach().cpu().numpy()\n",
        "plt.scatter(y_val.cpu(), y_val_pred, s = 10, label = 'Prediccions')\n",
        "plt.xlabel('Real values')\n",
        "plt.ylabel('Prediccions')\n",
        "plt.title('Validation results')\n",
        "plt.legend()\n",
        "\n",
        "# Residuals\n",
        "plt.subplot(2, 2, 3)\n",
        "residuals = y_val.cpu().numpy() - y_val_pred\n",
        "plt.hist(residuals, bins = 30, alpha = 0.75)\n",
        "plt.xlabel('Residuals')\n",
        "plt.ylabel('Frecuency')\n",
        "plt.title('Distribution')\n",
        "\n",
        "plt.tight_layout()\n",
        "plt.show()\n"
      ],
      "metadata": {
        "colab": {
          "base_uri": "https://localhost:8080/",
          "height": 739
        },
        "id": "kiFh3p3HFTtG",
        "outputId": "5b28b92e-0e04-47e3-c1a6-06dd27b4617e"
      },
      "execution_count": 61,
      "outputs": [
        {
          "output_type": "display_data",
          "data": {
            "text/plain": [
              "<Figure size 1200x800 with 3 Axes>"
            ],
            "image/png": "[encoded data removed]"
          },
          "metadata": {}
        }
      ]
    },
    {
      "cell_type": "code",
      "source": [
        "# Simbolic function visualization\n",
        "model.plot()\n",
        "plt.title('Función Simbólica')"
      ],
      "metadata": {
        "colab": {
          "base_uri": "https://localhost:8080/",
          "height": 362
        },
        "id": "6RKeSWtkIwzQ",
        "outputId": "01c7518a-f587-4ec2-b0c2-3c84b5cbfaa0"
      },
      "execution_count": 62,
      "outputs": [
        {
          "output_type": "execute_result",
          "data": {
            "text/plain": [
              "Text(0.5, 1.0, 'Función Simbólica')"
            ]
          },
          "metadata": {},
          "execution_count": 62
        },
        {
          "output_type": "display_data",
          "data": {
            "text/plain": [
              "<Figure size 500x400 with 32 Axes>"
            ],
            "image/png": "[encoded data removed]"
          },
          "metadata": {}
        }
      ]
    },
    {
      "cell_type": "code",
      "source": [
        "# Evaluation metrics in test data\n",
        "y_test_pred = model(dataset['test_input']).detach().cpu().numpy()\n",
        "test_r2     = r2_score(y_test.cpu(), y_test_pred)\n",
        "print(f\"R^2 in test data: {test_r2:.4f}\")\n",
        "\n",
        "# Obtener la fórmula simbólica\n",
        "from kan.utils import ex_round\n",
        "f_symbolic = ex_round(model.symbolic_formula()[0][0], 4)\n",
        "print(f\"Fórmula simbólica obtenida por KAN:\\n{f_symbolic}\")"
      ],
      "metadata": {
        "colab": {
          "base_uri": "https://localhost:8080/"
        },
        "id": "07YTXvT1FVuR",
        "outputId": "2f8345f7-9ba1-48e7-aa94-21619360f21d"
      },
      "execution_count": 63,
      "outputs": [
        {
          "output_type": "stream",
          "name": "stdout",
          "text": [
            "Coeficiente de determinación (R^2) en el conjunto de prueba: -257187322.6251\n",
            "Fórmula simbólica obtenida por KAN:\n",
            "0\n"
          ]
        }
      ]
    }
  ]
}